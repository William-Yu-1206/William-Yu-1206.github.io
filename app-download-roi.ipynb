{
 "cells": [
  {
   "cell_type": "code",
   "execution_count": 1,
   "id": "fd242b80-8f83-48ed-be8d-d372ad408bdd",
   "metadata": {},
   "outputs": [],
   "source": [
    "import numpy as np\n",
    "import pandas as pd"
   ]
  },
  {
   "cell_type": "code",
   "execution_count": 2,
   "id": "875f050b-c61d-439d-b7d5-2691eaecbbf7",
   "metadata": {},
   "outputs": [],
   "source": [
    "tableau = pd.read_csv('tableau.csv')"
   ]
  },
  {
   "cell_type": "code",
   "execution_count": 3,
   "id": "91ebeede-b9be-49fa-8ccf-1ed983fb56d4",
   "metadata": {},
   "outputs": [
    {
     "name": "stderr",
     "output_type": "stream",
     "text": [
      "/var/folders/81/8rrb2nqs7t39v9t0vy9jm2s80000gq/T/ipykernel_42246/3071957616.py:1: DtypeWarning: Columns (0,1,9,13,14,15,16,18,20,21,22,23,31,32,33,36,37,39,40,51,53,55,56) have mixed types. Specify dtype option on import or set low_memory=False.\n",
      "  appsflyer_raw = pd.read_csv('merged_file.csv')\n"
     ]
    }
   ],
   "source": [
    "appsflyer_raw = pd.read_csv('merged_file.csv')"
   ]
  },
  {
   "cell_type": "code",
   "execution_count": 4,
   "id": "d02b55ab-02c4-43d0-beff-1744205dc40e",
   "metadata": {},
   "outputs": [
    {
     "data": {
      "text/plain": [
       "(181282, 59)"
      ]
     },
     "execution_count": 4,
     "metadata": {},
     "output_type": "execute_result"
    }
   ],
   "source": [
    "appsflyer_raw.shape"
   ]
  },
  {
   "cell_type": "code",
   "execution_count": 5,
   "id": "d105ae4e-2a2b-4cb5-900c-f87886384741",
   "metadata": {},
   "outputs": [],
   "source": [
    "# data cleaning\n",
    "appsflyer = appsflyer_raw[['Customer User ID','Install Time', 'Media Source', 'Platform']]\n",
    "appsflyer = appsflyer.dropna(subset='Customer User ID')\n",
    "appsflyer.columns = ['customer_user_id','install_time', 'media_source', 'platform']\n",
    "appsflyer = appsflyer.drop_duplicates(subset='customer_user_id')\n",
    "appsflyer = appsflyer.fillna({'media_source':'organic'})"
   ]
  },
  {
   "cell_type": "code",
   "execution_count": 6,
   "id": "46dffa15-f13b-4d3c-bdcf-af9b365e4b70",
   "metadata": {},
   "outputs": [],
   "source": [
    "# merge data\n",
    "appsflyer_tableau = pd.merge(appsflyer, tableau, how='left',left_on='customer_user_id', right_on='order_member_uuid')"
   ]
  },
  {
   "cell_type": "code",
   "execution_count": 7,
   "id": "6bafb79d-4b95-4cb7-8b07-5352f74e0b43",
   "metadata": {},
   "outputs": [],
   "source": [
    "# convert data type to datetime\n",
    "appsflyer_tableau.install_time = pd.to_datetime(appsflyer_tableau.install_time)\n",
    "appsflyer_tableau.order_create_dt_tw = pd.to_datetime(appsflyer_tableau.order_create_dt_tw)\n",
    "appsflyer_tableau['install_date'] = appsflyer_tableau.install_time.dt.date"
   ]
  },
  {
   "cell_type": "code",
   "execution_count": 8,
   "id": "8e92b923-ee83-408e-8680-79085bfcd745",
   "metadata": {},
   "outputs": [],
   "source": [
    "# 篩選出每個用戶從安裝日開始，30天內的交易資料\n",
    "df_filtered = pd.DataFrame()\n",
    "for uuid, group in appsflyer_tableau.groupby('customer_user_id'):\n",
    "    group_filtered = group[(group['order_create_dt_tw'] >= group['install_date']) & \n",
    "                           (group['order_create_dt_tw'] <= group['install_date'] + pd.Timedelta(days=30))]\n",
    "    df_filtered = pd.concat([df_filtered, group_filtered])"
   ]
  },
  {
   "cell_type": "code",
   "execution_count": 9,
   "id": "284521d0-940f-488d-b120-41fb8a6c1eeb",
   "metadata": {},
   "outputs": [],
   "source": [
    "# 將 df_filtered 的交易資料加總至每一個用戶\n",
    "total_sale_per_user = df_filtered.groupby('customer_user_id').sum(['accounting_price', 'order_profit'])\n",
    "total_sale_per_user = total_sale_per_user.reset_index()"
   ]
  },
  {
   "cell_type": "code",
   "execution_count": 10,
   "id": "cc952159-fa77-40d9-a382-c1345a21b1e7",
   "metadata": {},
   "outputs": [],
   "source": [
    "# 將install, media_source, platform資訊加回去\n",
    "app_download_sales = pd.merge(appsflyer, total_sale_per_user, how='left', on='customer_user_id')\n",
    "app_download_sales = app_download_sales.fillna(0)"
   ]
  },
  {
   "cell_type": "code",
   "execution_count": 11,
   "id": "f0123619-38bf-457b-a8fb-0db1fc435c10",
   "metadata": {},
   "outputs": [],
   "source": [
    "app_download_sales.install_time = pd.to_datetime(app_download_sales.install_time)"
   ]
  },
  {
   "cell_type": "code",
   "execution_count": 12,
   "id": "92e3f98b-cb2f-4115-8724-2a4bd6dbd37b",
   "metadata": {},
   "outputs": [],
   "source": [
    "# 篩選需要分析的資料\n",
    "app_download_sales_selected = app_download_sales[app_download_sales.install_time <= pd.Timestamp('2024-08-07')]"
   ]
  },
  {
   "cell_type": "code",
   "execution_count": 13,
   "id": "c756419b-8147-4d90-9e02-89267b42b395",
   "metadata": {},
   "outputs": [
    {
     "name": "stderr",
     "output_type": "stream",
     "text": [
      "/var/folders/81/8rrb2nqs7t39v9t0vy9jm2s80000gq/T/ipykernel_42246/3901327513.py:1: SettingWithCopyWarning: \n",
      "A value is trying to be set on a copy of a slice from a DataFrame.\n",
      "Try using .loc[row_indexer,col_indexer] = value instead\n",
      "\n",
      "See the caveats in the documentation: https://pandas.pydata.org/pandas-docs/stable/user_guide/indexing.html#returning-a-view-versus-a-copy\n",
      "  app_download_sales_selected['month'] = app_download_sales_selected.loc[:, 'install_time'].dt.month\n"
     ]
    }
   ],
   "source": [
    "app_download_sales_selected['month'] = app_download_sales_selected.loc[:, 'install_time'].dt.month"
   ]
  },
  {
   "cell_type": "code",
   "execution_count": 14,
   "id": "72a75774-601a-4afe-804c-f4e3b581b1f3",
   "metadata": {},
   "outputs": [
    {
     "data": {
      "text/html": [
       "<div>\n",
       "<style scoped>\n",
       "    .dataframe tbody tr th:only-of-type {\n",
       "        vertical-align: middle;\n",
       "    }\n",
       "\n",
       "    .dataframe tbody tr th {\n",
       "        vertical-align: top;\n",
       "    }\n",
       "\n",
       "    .dataframe thead th {\n",
       "        text-align: right;\n",
       "    }\n",
       "</style>\n",
       "<table border=\"1\" class=\"dataframe\">\n",
       "  <thead>\n",
       "    <tr style=\"text-align: right;\">\n",
       "      <th></th>\n",
       "      <th>customer_user_id</th>\n",
       "      <th>install_time</th>\n",
       "      <th>media_source</th>\n",
       "      <th>platform</th>\n",
       "      <th>accounting_price</th>\n",
       "      <th>order_profit</th>\n",
       "      <th>month</th>\n",
       "    </tr>\n",
       "  </thead>\n",
       "  <tbody>\n",
       "    <tr>\n",
       "      <th>0</th>\n",
       "      <td>42627abe-9b98-408a-a146-148c6eb56529</td>\n",
       "      <td>2024-07-31 23:55:37</td>\n",
       "      <td>googleadwords_int</td>\n",
       "      <td>android</td>\n",
       "      <td>0.00</td>\n",
       "      <td>0.00</td>\n",
       "      <td>7</td>\n",
       "    </tr>\n",
       "    <tr>\n",
       "      <th>1</th>\n",
       "      <td>a833a424-5903-436f-8c4c-5984f9905a36</td>\n",
       "      <td>2024-07-30 17:53:19</td>\n",
       "      <td>googleadwords_int</td>\n",
       "      <td>android</td>\n",
       "      <td>71.23</td>\n",
       "      <td>11.83</td>\n",
       "      <td>7</td>\n",
       "    </tr>\n",
       "    <tr>\n",
       "      <th>2</th>\n",
       "      <td>96896acd-012d-41eb-ab2a-4db2c9bb4bf3</td>\n",
       "      <td>2024-07-31 23:51:28</td>\n",
       "      <td>googleadwords_int</td>\n",
       "      <td>android</td>\n",
       "      <td>0.00</td>\n",
       "      <td>0.00</td>\n",
       "      <td>7</td>\n",
       "    </tr>\n",
       "    <tr>\n",
       "      <th>3</th>\n",
       "      <td>2b4e1f45-3fa2-42d6-af72-5563a2bccd41</td>\n",
       "      <td>2024-07-31 23:48:49</td>\n",
       "      <td>Smart_Banner</td>\n",
       "      <td>android</td>\n",
       "      <td>0.00</td>\n",
       "      <td>0.00</td>\n",
       "      <td>7</td>\n",
       "    </tr>\n",
       "    <tr>\n",
       "      <th>4</th>\n",
       "      <td>af46299b-74d0-401f-98de-06580eb7e1a3</td>\n",
       "      <td>2024-07-31 23:48:49</td>\n",
       "      <td>Smart_Banner</td>\n",
       "      <td>android</td>\n",
       "      <td>0.00</td>\n",
       "      <td>0.00</td>\n",
       "      <td>7</td>\n",
       "    </tr>\n",
       "    <tr>\n",
       "      <th>...</th>\n",
       "      <td>...</td>\n",
       "      <td>...</td>\n",
       "      <td>...</td>\n",
       "      <td>...</td>\n",
       "      <td>...</td>\n",
       "      <td>...</td>\n",
       "      <td>...</td>\n",
       "    </tr>\n",
       "    <tr>\n",
       "      <th>51201</th>\n",
       "      <td>534662c8-d854-486c-a7cd-2129ab4e7c2c</td>\n",
       "      <td>2024-08-01 01:27:20</td>\n",
       "      <td>organic</td>\n",
       "      <td>ios</td>\n",
       "      <td>0.00</td>\n",
       "      <td>0.00</td>\n",
       "      <td>8</td>\n",
       "    </tr>\n",
       "    <tr>\n",
       "      <th>51202</th>\n",
       "      <td>6331aeed-a7a7-4147-9fc6-d6e0f8d61fd5</td>\n",
       "      <td>2024-08-01 01:16:21</td>\n",
       "      <td>organic</td>\n",
       "      <td>ios</td>\n",
       "      <td>0.00</td>\n",
       "      <td>0.00</td>\n",
       "      <td>8</td>\n",
       "    </tr>\n",
       "    <tr>\n",
       "      <th>51203</th>\n",
       "      <td>ad1ddc6c-68a4-47fa-9615-70ee696da947</td>\n",
       "      <td>2024-08-01 00:42:14</td>\n",
       "      <td>organic</td>\n",
       "      <td>ios</td>\n",
       "      <td>140.40</td>\n",
       "      <td>-5.22</td>\n",
       "      <td>8</td>\n",
       "    </tr>\n",
       "    <tr>\n",
       "      <th>51204</th>\n",
       "      <td>62207612-d038-425d-bee5-8ccddc952684</td>\n",
       "      <td>2024-08-01 00:57:25</td>\n",
       "      <td>organic</td>\n",
       "      <td>ios</td>\n",
       "      <td>298.71</td>\n",
       "      <td>42.99</td>\n",
       "      <td>8</td>\n",
       "    </tr>\n",
       "    <tr>\n",
       "      <th>51205</th>\n",
       "      <td>95dad36d-62c7-4661-bca3-90f5dba1c1a9</td>\n",
       "      <td>2024-08-01 00:07:14</td>\n",
       "      <td>organic</td>\n",
       "      <td>ios</td>\n",
       "      <td>0.00</td>\n",
       "      <td>0.00</td>\n",
       "      <td>8</td>\n",
       "    </tr>\n",
       "  </tbody>\n",
       "</table>\n",
       "<p>32748 rows × 7 columns</p>\n",
       "</div>"
      ],
      "text/plain": [
       "                           customer_user_id        install_time  \\\n",
       "0      42627abe-9b98-408a-a146-148c6eb56529 2024-07-31 23:55:37   \n",
       "1      a833a424-5903-436f-8c4c-5984f9905a36 2024-07-30 17:53:19   \n",
       "2      96896acd-012d-41eb-ab2a-4db2c9bb4bf3 2024-07-31 23:51:28   \n",
       "3      2b4e1f45-3fa2-42d6-af72-5563a2bccd41 2024-07-31 23:48:49   \n",
       "4      af46299b-74d0-401f-98de-06580eb7e1a3 2024-07-31 23:48:49   \n",
       "...                                     ...                 ...   \n",
       "51201  534662c8-d854-486c-a7cd-2129ab4e7c2c 2024-08-01 01:27:20   \n",
       "51202  6331aeed-a7a7-4147-9fc6-d6e0f8d61fd5 2024-08-01 01:16:21   \n",
       "51203  ad1ddc6c-68a4-47fa-9615-70ee696da947 2024-08-01 00:42:14   \n",
       "51204  62207612-d038-425d-bee5-8ccddc952684 2024-08-01 00:57:25   \n",
       "51205  95dad36d-62c7-4661-bca3-90f5dba1c1a9 2024-08-01 00:07:14   \n",
       "\n",
       "            media_source platform  accounting_price  order_profit  month  \n",
       "0      googleadwords_int  android              0.00          0.00      7  \n",
       "1      googleadwords_int  android             71.23         11.83      7  \n",
       "2      googleadwords_int  android              0.00          0.00      7  \n",
       "3           Smart_Banner  android              0.00          0.00      7  \n",
       "4           Smart_Banner  android              0.00          0.00      7  \n",
       "...                  ...      ...               ...           ...    ...  \n",
       "51201            organic      ios              0.00          0.00      8  \n",
       "51202            organic      ios              0.00          0.00      8  \n",
       "51203            organic      ios            140.40         -5.22      8  \n",
       "51204            organic      ios            298.71         42.99      8  \n",
       "51205            organic      ios              0.00          0.00      8  \n",
       "\n",
       "[32748 rows x 7 columns]"
      ]
     },
     "execution_count": 14,
     "metadata": {},
     "output_type": "execute_result"
    }
   ],
   "source": [
    "app_download_sales_selected"
   ]
  },
  {
   "cell_type": "code",
   "execution_count": 15,
   "id": "ada6d076-68b8-4721-a5d8-0a4b78bb43de",
   "metadata": {},
   "outputs": [],
   "source": [
    "profit = app_download_sales_selected.groupby(['platform', 'month', 'media_source']).sum('order_profit')"
   ]
  },
  {
   "cell_type": "code",
   "execution_count": 16,
   "id": "e7e10d06-d528-4efa-9ae5-c386b811b785",
   "metadata": {},
   "outputs": [
    {
     "data": {
      "text/html": [
       "<div>\n",
       "<style scoped>\n",
       "    .dataframe tbody tr th:only-of-type {\n",
       "        vertical-align: middle;\n",
       "    }\n",
       "\n",
       "    .dataframe tbody tr th {\n",
       "        vertical-align: top;\n",
       "    }\n",
       "\n",
       "    .dataframe thead th {\n",
       "        text-align: right;\n",
       "    }\n",
       "</style>\n",
       "<table border=\"1\" class=\"dataframe\">\n",
       "  <thead>\n",
       "    <tr style=\"text-align: right;\">\n",
       "      <th></th>\n",
       "      <th></th>\n",
       "      <th></th>\n",
       "      <th>accounting_price</th>\n",
       "      <th>order_profit</th>\n",
       "    </tr>\n",
       "    <tr>\n",
       "      <th>platform</th>\n",
       "      <th>month</th>\n",
       "      <th>media_source</th>\n",
       "      <th></th>\n",
       "      <th></th>\n",
       "    </tr>\n",
       "  </thead>\n",
       "  <tbody>\n",
       "    <tr>\n",
       "      <th rowspan=\"5\" valign=\"top\">android</th>\n",
       "      <th rowspan=\"5\" valign=\"top\">7</th>\n",
       "      <th>Blog</th>\n",
       "      <td>255.43</td>\n",
       "      <td>17.70000</td>\n",
       "    </tr>\n",
       "    <tr>\n",
       "      <th>Blog_tw</th>\n",
       "      <td>358.56</td>\n",
       "      <td>57.36960</td>\n",
       "    </tr>\n",
       "    <tr>\n",
       "      <th>CRM_event</th>\n",
       "      <td>482.07</td>\n",
       "      <td>154.01000</td>\n",
       "    </tr>\n",
       "    <tr>\n",
       "      <th>Email</th>\n",
       "      <td>0.00</td>\n",
       "      <td>0.00000</td>\n",
       "    </tr>\n",
       "    <tr>\n",
       "      <th>Facebook_ads</th>\n",
       "      <td>238.21</td>\n",
       "      <td>11.13000</td>\n",
       "    </tr>\n",
       "    <tr>\n",
       "      <th>...</th>\n",
       "      <th>...</th>\n",
       "      <th>...</th>\n",
       "      <td>...</td>\n",
       "      <td>...</td>\n",
       "    </tr>\n",
       "    <tr>\n",
       "      <th rowspan=\"5\" valign=\"top\">ios</th>\n",
       "      <th rowspan=\"5\" valign=\"top\">8</th>\n",
       "      <th>jp_promopage</th>\n",
       "      <td>0.00</td>\n",
       "      <td>0.00000</td>\n",
       "    </tr>\n",
       "    <tr>\n",
       "      <th>organic</th>\n",
       "      <td>43365.80</td>\n",
       "      <td>3464.12839</td>\n",
       "    </tr>\n",
       "    <tr>\n",
       "      <th>rd_mkt_web</th>\n",
       "      <td>5949.57</td>\n",
       "      <td>574.73000</td>\n",
       "    </tr>\n",
       "    <tr>\n",
       "      <th>tw_productpage</th>\n",
       "      <td>1354.34</td>\n",
       "      <td>173.19800</td>\n",
       "    </tr>\n",
       "    <tr>\n",
       "      <th>tw_promopage</th>\n",
       "      <td>0.00</td>\n",
       "      <td>0.00000</td>\n",
       "    </tr>\n",
       "  </tbody>\n",
       "</table>\n",
       "<p>112 rows × 2 columns</p>\n",
       "</div>"
      ],
      "text/plain": [
       "                               accounting_price  order_profit\n",
       "platform month media_source                                  \n",
       "android  7     Blog                      255.43      17.70000\n",
       "               Blog_tw                   358.56      57.36960\n",
       "               CRM_event                 482.07     154.01000\n",
       "               Email                       0.00       0.00000\n",
       "               Facebook_ads              238.21      11.13000\n",
       "...                                         ...           ...\n",
       "ios      8     jp_promopage                0.00       0.00000\n",
       "               organic                 43365.80    3464.12839\n",
       "               rd_mkt_web               5949.57     574.73000\n",
       "               tw_productpage           1354.34     173.19800\n",
       "               tw_promopage                0.00       0.00000\n",
       "\n",
       "[112 rows x 2 columns]"
      ]
     },
     "execution_count": 16,
     "metadata": {},
     "output_type": "execute_result"
    }
   ],
   "source": [
    "profit"
   ]
  },
  {
   "cell_type": "code",
   "execution_count": 17,
   "id": "2b277aeb-9e66-4a63-8982-95ccf0aecddf",
   "metadata": {},
   "outputs": [],
   "source": [
    "counts = app_download_sales_selected[['platform', 'month', 'media_source']].groupby(\n",
    "    ['platform', 'month', 'media_source']\n",
    ").value_counts()"
   ]
  },
  {
   "cell_type": "code",
   "execution_count": 18,
   "id": "45f64d0b-35a8-46e6-a55b-b2f5fccd1e33",
   "metadata": {},
   "outputs": [
    {
     "data": {
      "text/plain": [
       "platform  month  media_source  \n",
       "android   7      Blog               15\n",
       "                 Blog_tw             3\n",
       "                 CRM_event          18\n",
       "                 Email               1\n",
       "                 Facebook_ads       23\n",
       "                                  ... \n",
       "ios       8      jp_promopage        1\n",
       "                 organic           885\n",
       "                 rd_mkt_web         52\n",
       "                 tw_productpage     16\n",
       "                 tw_promopage        1\n",
       "Name: count, Length: 112, dtype: int64"
      ]
     },
     "execution_count": 18,
     "metadata": {},
     "output_type": "execute_result"
    }
   ],
   "source": [
    "counts"
   ]
  },
  {
   "cell_type": "code",
   "execution_count": 19,
   "id": "888b9dcd-2fb8-4e9d-aa04-638373c84331",
   "metadata": {},
   "outputs": [],
   "source": [
    "# export to csv\n",
    "profit.to_csv('profit.csv')\n",
    "counts.to_csv('counts.csv')"
   ]
  }
 ],
 "metadata": {
  "kernelspec": {
   "display_name": "Python 3 (ipykernel)",
   "language": "python",
   "name": "python3"
  },
  "language_info": {
   "codemirror_mode": {
    "name": "ipython",
    "version": 3
   },
   "file_extension": ".py",
   "mimetype": "text/x-python",
   "name": "python",
   "nbconvert_exporter": "python",
   "pygments_lexer": "ipython3",
   "version": "3.12.4"
  }
 },
 "nbformat": 4,
 "nbformat_minor": 5
}
